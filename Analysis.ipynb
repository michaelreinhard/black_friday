{
 "cells": [
  {
   "cell_type": "code",
   "execution_count": 29,
   "metadata": {},
   "outputs": [],
   "source": [
    "import pandas as pd\n",
    "import numpy as np\n",
    "import time\n",
    "from collections import OrderedDict\n",
    "from sklearn.model_selection import train_test_split\n",
    "from sklearn.linear_model import LinearRegression\n",
    "from sklearn.linear_model import Ridge\n",
    "from sklearn.linear_model import Lasso\n",
    "from sklearn.ensemble import RandomForestRegressor\n",
    "from sklearn.model_selection import cross_val_score, cross_val_predict\n",
    "from sklearn.model_selection import GridSearchCV, KFold\n",
    "from sklearn.model_selection import ShuffleSplit\n",
    "from sklearn.kernel_ridge import KernelRidge\n",
    "from sklearn.metrics import r2_score\n",
    "from sklearn.metrics import mean_squared_error\n",
    "import seaborn as sns\n",
    "import matplotlib.pyplot as plt\n",
    "%matplotlib inline "
   ]
  },
  {
   "cell_type": "markdown",
   "metadata": {},
   "source": [
    "This project analyses the black friday sales data from three Indian department stores. In addition to the total purchases it has the product category, store, and product ID of each purchase and demographic information about the purchaser. \n",
    "\n",
    "Here is a link to the data: [Black Friday](https://www.kaggle.com/mehdidag/black-friday). Here is the original posting of the data set from [Analytics Vidhya](https://datahack.analyticsvidhya.com/contest/black-friday/#problem_statement). The data posted on the website for use in a contest. The contest is to predict purchases and that will be one of the business questions I analyze in this notebook.  \n",
    "\n",
    "## Business Understanding\n",
    "\n",
    "In this analysis I ask three business questions:  \n",
    "\n",
    "1\\. Who is buying? What are the demographic characteristics of buyers and can we differentiate buyers by what we know about them personally?  Can we isolate groups that differ significantly in their purchasing behavior?  \n",
    "\n",
    "2\\. What are they buying? Can we differentiate customers by the product category they buy? We will focus in this section on gender.  \n",
    "\n",
    "3\\. How well can we predict sales? This is the question asked on the website that motivates the contest. We will see how much of the variance in total sales can be predicted from this data?  \n",
    "\n",
    "[Here is a Medium Blogpost](https://medium.com/@michaelrobertreinhard/men-are-doing-the-shopping-depending-on-the-product-63393536595c) based on this analysis. "
   ]
  },
  {
   "cell_type": "markdown",
   "metadata": {},
   "source": [
    "## Data Understanding"
   ]
  },
  {
   "cell_type": "code",
   "execution_count": 30,
   "metadata": {},
   "outputs": [],
   "source": [
    "import zipfile\n",
    "zip_ref = zipfile.ZipFile(\"BlackFriday.csv.zip\", 'r')\n",
    "zip_ref.extractall()\n",
    "zip_ref.close()"
   ]
  },
  {
   "cell_type": "code",
   "execution_count": 31,
   "metadata": {},
   "outputs": [],
   "source": [
    "df = pd.read_csv('BlackFriday.csv', sep=',')"
   ]
  },
  {
   "cell_type": "code",
   "execution_count": 32,
   "metadata": {},
   "outputs": [
    {
     "data": {
      "text/html": [
       "<div>\n",
       "<style scoped>\n",
       "    .dataframe tbody tr th:only-of-type {\n",
       "        vertical-align: middle;\n",
       "    }\n",
       "\n",
       "    .dataframe tbody tr th {\n",
       "        vertical-align: top;\n",
       "    }\n",
       "\n",
       "    .dataframe thead th {\n",
       "        text-align: right;\n",
       "    }\n",
       "</style>\n",
       "<table border=\"1\" class=\"dataframe\">\n",
       "  <thead>\n",
       "    <tr style=\"text-align: right;\">\n",
       "      <th></th>\n",
       "      <th>User_ID</th>\n",
       "      <th>Product_ID</th>\n",
       "      <th>Gender</th>\n",
       "      <th>Age</th>\n",
       "      <th>Occupation</th>\n",
       "      <th>City_Category</th>\n",
       "      <th>Stay_In_Current_City_Years</th>\n",
       "      <th>Marital_Status</th>\n",
       "      <th>Product_Category_1</th>\n",
       "      <th>Product_Category_2</th>\n",
       "      <th>Product_Category_3</th>\n",
       "      <th>Purchase</th>\n",
       "    </tr>\n",
       "  </thead>\n",
       "  <tbody>\n",
       "    <tr>\n",
       "      <th>0</th>\n",
       "      <td>1000001</td>\n",
       "      <td>P00069042</td>\n",
       "      <td>F</td>\n",
       "      <td>0-17</td>\n",
       "      <td>10</td>\n",
       "      <td>A</td>\n",
       "      <td>2</td>\n",
       "      <td>0</td>\n",
       "      <td>3</td>\n",
       "      <td>NaN</td>\n",
       "      <td>NaN</td>\n",
       "      <td>8370</td>\n",
       "    </tr>\n",
       "    <tr>\n",
       "      <th>1</th>\n",
       "      <td>1000001</td>\n",
       "      <td>P00248942</td>\n",
       "      <td>F</td>\n",
       "      <td>0-17</td>\n",
       "      <td>10</td>\n",
       "      <td>A</td>\n",
       "      <td>2</td>\n",
       "      <td>0</td>\n",
       "      <td>1</td>\n",
       "      <td>6.0</td>\n",
       "      <td>14.0</td>\n",
       "      <td>15200</td>\n",
       "    </tr>\n",
       "    <tr>\n",
       "      <th>2</th>\n",
       "      <td>1000001</td>\n",
       "      <td>P00087842</td>\n",
       "      <td>F</td>\n",
       "      <td>0-17</td>\n",
       "      <td>10</td>\n",
       "      <td>A</td>\n",
       "      <td>2</td>\n",
       "      <td>0</td>\n",
       "      <td>12</td>\n",
       "      <td>NaN</td>\n",
       "      <td>NaN</td>\n",
       "      <td>1422</td>\n",
       "    </tr>\n",
       "    <tr>\n",
       "      <th>3</th>\n",
       "      <td>1000001</td>\n",
       "      <td>P00085442</td>\n",
       "      <td>F</td>\n",
       "      <td>0-17</td>\n",
       "      <td>10</td>\n",
       "      <td>A</td>\n",
       "      <td>2</td>\n",
       "      <td>0</td>\n",
       "      <td>12</td>\n",
       "      <td>14.0</td>\n",
       "      <td>NaN</td>\n",
       "      <td>1057</td>\n",
       "    </tr>\n",
       "    <tr>\n",
       "      <th>4</th>\n",
       "      <td>1000002</td>\n",
       "      <td>P00285442</td>\n",
       "      <td>M</td>\n",
       "      <td>55+</td>\n",
       "      <td>16</td>\n",
       "      <td>C</td>\n",
       "      <td>4+</td>\n",
       "      <td>0</td>\n",
       "      <td>8</td>\n",
       "      <td>NaN</td>\n",
       "      <td>NaN</td>\n",
       "      <td>7969</td>\n",
       "    </tr>\n",
       "  </tbody>\n",
       "</table>\n",
       "</div>"
      ],
      "text/plain": [
       "   User_ID Product_ID Gender   Age  Occupation City_Category  \\\n",
       "0  1000001  P00069042      F  0-17          10             A   \n",
       "1  1000001  P00248942      F  0-17          10             A   \n",
       "2  1000001  P00087842      F  0-17          10             A   \n",
       "3  1000001  P00085442      F  0-17          10             A   \n",
       "4  1000002  P00285442      M   55+          16             C   \n",
       "\n",
       "  Stay_In_Current_City_Years  Marital_Status  Product_Category_1  \\\n",
       "0                          2               0                   3   \n",
       "1                          2               0                   1   \n",
       "2                          2               0                  12   \n",
       "3                          2               0                  12   \n",
       "4                         4+               0                   8   \n",
       "\n",
       "   Product_Category_2  Product_Category_3  Purchase  \n",
       "0                 NaN                 NaN      8370  \n",
       "1                 6.0                14.0     15200  \n",
       "2                 NaN                 NaN      1422  \n",
       "3                14.0                 NaN      1057  \n",
       "4                 NaN                 NaN      7969  "
      ]
     },
     "execution_count": 32,
     "metadata": {},
     "output_type": "execute_result"
    }
   ],
   "source": [
    "df.head()"
   ]
  },
  {
   "cell_type": "code",
   "execution_count": 33,
   "metadata": {},
   "outputs": [
    {
     "data": {
      "text/plain": [
       "(537577, 12)"
      ]
     },
     "execution_count": 33,
     "metadata": {},
     "output_type": "execute_result"
    }
   ],
   "source": [
    "df.shape"
   ]
  },
  {
   "cell_type": "code",
   "execution_count": 34,
   "metadata": {},
   "outputs": [
    {
     "data": {
      "text/html": [
       "<div>\n",
       "<style scoped>\n",
       "    .dataframe tbody tr th:only-of-type {\n",
       "        vertical-align: middle;\n",
       "    }\n",
       "\n",
       "    .dataframe tbody tr th {\n",
       "        vertical-align: top;\n",
       "    }\n",
       "\n",
       "    .dataframe thead th {\n",
       "        text-align: right;\n",
       "    }\n",
       "</style>\n",
       "<table border=\"1\" class=\"dataframe\">\n",
       "  <thead>\n",
       "    <tr style=\"text-align: right;\">\n",
       "      <th></th>\n",
       "      <th>User_ID</th>\n",
       "      <th>Occupation</th>\n",
       "      <th>Marital_Status</th>\n",
       "      <th>Product_Category_1</th>\n",
       "      <th>Product_Category_2</th>\n",
       "      <th>Product_Category_3</th>\n",
       "      <th>Purchase</th>\n",
       "    </tr>\n",
       "  </thead>\n",
       "  <tbody>\n",
       "    <tr>\n",
       "      <th>count</th>\n",
       "      <td>5.375770e+05</td>\n",
       "      <td>537577.00000</td>\n",
       "      <td>537577.000000</td>\n",
       "      <td>537577.000000</td>\n",
       "      <td>370591.000000</td>\n",
       "      <td>164278.000000</td>\n",
       "      <td>537577.000000</td>\n",
       "    </tr>\n",
       "    <tr>\n",
       "      <th>mean</th>\n",
       "      <td>1.002992e+06</td>\n",
       "      <td>8.08271</td>\n",
       "      <td>0.408797</td>\n",
       "      <td>5.295546</td>\n",
       "      <td>9.842144</td>\n",
       "      <td>12.669840</td>\n",
       "      <td>9333.859853</td>\n",
       "    </tr>\n",
       "    <tr>\n",
       "      <th>std</th>\n",
       "      <td>1.714393e+03</td>\n",
       "      <td>6.52412</td>\n",
       "      <td>0.491612</td>\n",
       "      <td>3.750701</td>\n",
       "      <td>5.087259</td>\n",
       "      <td>4.124341</td>\n",
       "      <td>4981.022133</td>\n",
       "    </tr>\n",
       "    <tr>\n",
       "      <th>min</th>\n",
       "      <td>1.000001e+06</td>\n",
       "      <td>0.00000</td>\n",
       "      <td>0.000000</td>\n",
       "      <td>1.000000</td>\n",
       "      <td>2.000000</td>\n",
       "      <td>3.000000</td>\n",
       "      <td>185.000000</td>\n",
       "    </tr>\n",
       "    <tr>\n",
       "      <th>25%</th>\n",
       "      <td>1.001495e+06</td>\n",
       "      <td>2.00000</td>\n",
       "      <td>0.000000</td>\n",
       "      <td>1.000000</td>\n",
       "      <td>5.000000</td>\n",
       "      <td>9.000000</td>\n",
       "      <td>5866.000000</td>\n",
       "    </tr>\n",
       "    <tr>\n",
       "      <th>50%</th>\n",
       "      <td>1.003031e+06</td>\n",
       "      <td>7.00000</td>\n",
       "      <td>0.000000</td>\n",
       "      <td>5.000000</td>\n",
       "      <td>9.000000</td>\n",
       "      <td>14.000000</td>\n",
       "      <td>8062.000000</td>\n",
       "    </tr>\n",
       "    <tr>\n",
       "      <th>75%</th>\n",
       "      <td>1.004417e+06</td>\n",
       "      <td>14.00000</td>\n",
       "      <td>1.000000</td>\n",
       "      <td>8.000000</td>\n",
       "      <td>15.000000</td>\n",
       "      <td>16.000000</td>\n",
       "      <td>12073.000000</td>\n",
       "    </tr>\n",
       "    <tr>\n",
       "      <th>max</th>\n",
       "      <td>1.006040e+06</td>\n",
       "      <td>20.00000</td>\n",
       "      <td>1.000000</td>\n",
       "      <td>18.000000</td>\n",
       "      <td>18.000000</td>\n",
       "      <td>18.000000</td>\n",
       "      <td>23961.000000</td>\n",
       "    </tr>\n",
       "  </tbody>\n",
       "</table>\n",
       "</div>"
      ],
      "text/plain": [
       "            User_ID    Occupation  Marital_Status  Product_Category_1  \\\n",
       "count  5.375770e+05  537577.00000   537577.000000       537577.000000   \n",
       "mean   1.002992e+06       8.08271        0.408797            5.295546   \n",
       "std    1.714393e+03       6.52412        0.491612            3.750701   \n",
       "min    1.000001e+06       0.00000        0.000000            1.000000   \n",
       "25%    1.001495e+06       2.00000        0.000000            1.000000   \n",
       "50%    1.003031e+06       7.00000        0.000000            5.000000   \n",
       "75%    1.004417e+06      14.00000        1.000000            8.000000   \n",
       "max    1.006040e+06      20.00000        1.000000           18.000000   \n",
       "\n",
       "       Product_Category_2  Product_Category_3       Purchase  \n",
       "count       370591.000000       164278.000000  537577.000000  \n",
       "mean             9.842144           12.669840    9333.859853  \n",
       "std              5.087259            4.124341    4981.022133  \n",
       "min              2.000000            3.000000     185.000000  \n",
       "25%              5.000000            9.000000    5866.000000  \n",
       "50%              9.000000           14.000000    8062.000000  \n",
       "75%             15.000000           16.000000   12073.000000  \n",
       "max             18.000000           18.000000   23961.000000  "
      ]
     },
     "execution_count": 34,
     "metadata": {},
     "output_type": "execute_result"
    }
   ],
   "source": [
    "df.describe()"
   ]
  },
  {
   "cell_type": "code",
   "execution_count": 35,
   "metadata": {},
   "outputs": [
    {
     "data": {
      "text/plain": [
       "User_ID                         int64\n",
       "Product_ID                     object\n",
       "Gender                         object\n",
       "Age                            object\n",
       "Occupation                      int64\n",
       "City_Category                  object\n",
       "Stay_In_Current_City_Years     object\n",
       "Marital_Status                  int64\n",
       "Product_Category_1              int64\n",
       "Product_Category_2            float64\n",
       "Product_Category_3            float64\n",
       "Purchase                        int64\n",
       "dtype: object"
      ]
     },
     "execution_count": 35,
     "metadata": {},
     "output_type": "execute_result"
    }
   ],
   "source": [
    "df.dtypes"
   ]
  },
  {
   "cell_type": "markdown",
   "metadata": {},
   "source": [
    "## Data Preparation\n",
    "As this data was taken from a contest it is, in the main, ready for analysis, but there are a few things that need to be done to it. The missing values have to be dealt with and some variables need their type adjusted.\n",
    "### Missing Values\n",
    "First I look for missing values. "
   ]
  },
  {
   "cell_type": "code",
   "execution_count": 36,
   "metadata": {},
   "outputs": [
    {
     "name": "stdout",
     "output_type": "stream",
     "text": [
      "User_ID                            0\n",
      "Product_ID                         0\n",
      "Gender                             0\n",
      "Age                                0\n",
      "Occupation                         0\n",
      "City_Category                      0\n",
      "Stay_In_Current_City_Years         0\n",
      "Marital_Status                     0\n",
      "Product_Category_1                 0\n",
      "Product_Category_2            166986\n",
      "Product_Category_3            373299\n",
      "Purchase                           0\n",
      "dtype: int64\n"
     ]
    }
   ],
   "source": [
    "print(df.isna().sum())"
   ]
  },
  {
   "cell_type": "markdown",
   "metadata": {},
   "source": [
    "The missing values appear to be in the Product Categories 2 and 3. My guess is that these are the subcategories of product 1. That would explain why there are no missing values in Category 1. Dropping the values that are missing would result in over half of the data set being lost so that is not an option, so where they are missing I will just the product category 1. "
   ]
  },
  {
   "cell_type": "code",
   "execution_count": 38,
   "metadata": {},
   "outputs": [],
   "source": [
    "#substitue Product Category 1 for missing data in 2 and 3\n",
    "df['Product_Category_2'] = df['Product_Category_2'].fillna(\n",
    "    df['Product_Category_1']) \n",
    "df['Product_Category_3'] = df['Product_Category_3'].fillna(\n",
    "    df['Product_Category_1']) "
   ]
  },
  {
   "cell_type": "markdown",
   "metadata": {},
   "source": [
    "### Mis-Typed data\n",
    "There are some data that have the wrong type. For instance age is presently coded as a string variable becuase of the categories, like '0-17', '55+', it was coded into. For the categories that are bounded by two numbers I pick the median value. For the categories at the end of the data set pick reasonable values: 15 for 0-17 and 65 for 55+. "
   ]
  },
  {
   "cell_type": "code",
   "execution_count": 39,
   "metadata": {},
   "outputs": [],
   "source": [
    "df['Age'] = df['Age'].replace(\n",
    "    {'0-17':int(15), \n",
    "     '55+':int(65),\n",
    "     '18-25':int(22),\n",
    "     '26-35':int(31),\n",
    "     '36-45':int(41),\n",
    "     '46-50':int(48),\n",
    "     '51-55':int(53)})"
   ]
  },
  {
   "cell_type": "markdown",
   "metadata": {},
   "source": [
    "The same is true for the number of years spent in current city, though this variable only codes up to a maximum of 4 years. "
   ]
  },
  {
   "cell_type": "code",
   "execution_count": 40,
   "metadata": {},
   "outputs": [
    {
     "data": {
      "text/plain": [
       "0     2\n",
       "1     2\n",
       "2     2\n",
       "3     2\n",
       "4    4+\n",
       "Name: Stay_In_Current_City_Years, dtype: object"
      ]
     },
     "execution_count": 40,
     "metadata": {},
     "output_type": "execute_result"
    }
   ],
   "source": [
    "df['Stay_In_Current_City_Years'].head()"
   ]
  },
  {
   "cell_type": "code",
   "execution_count": 41,
   "metadata": {},
   "outputs": [],
   "source": [
    "#turn into an integer \n",
    "df['Stay_In_Current_City_Years'] = df['Stay_In_Current_City_Years'].replace(\n",
    "    {'0':int(0), \n",
    "     '1':int(1), \n",
    "     '2':int(2), \n",
    "     '3':int(3), \n",
    "     '4+':int(4)})"
   ]
  },
  {
   "cell_type": "markdown",
   "metadata": {},
   "source": [
    "## Answering Business Questions"
   ]
  },
  {
   "cell_type": "markdown",
   "metadata": {},
   "source": [
    "Though the data is not yet ready for machine learning I will interrupt data prep to answer the first two business questions. The problem is that I answer the first two business questions with descriptive statistics but I use the descriptive statistics to help determine how I will prep the data, specifically, which varaiables I will drop. So I will break the order here and intersperse the answering of the first two business questions before I conclude the data prep."
   ]
  },
  {
   "cell_type": "markdown",
   "metadata": {},
   "source": [
    "### 1) Are there differences between groups?\n",
    "This is marketing data and the main use it can be put to is singling out groups for special marketing efforts. Therefore, the main group of hypotheses to test are whether there are differences in purchases among various groups. "
   ]
  },
  {
   "cell_type": "code",
   "execution_count": 42,
   "metadata": {},
   "outputs": [
    {
     "data": {
      "text/plain": [
       "Occupation\n",
       "0     9186.946726\n",
       "1     9017.703095\n",
       "2     9025.938982\n",
       "3     9238.077277\n",
       "4     9279.026742\n",
       "5     9388.848978\n",
       "6     9336.378620\n",
       "7     9502.175276\n",
       "8     9576.508530\n",
       "9     8714.335934\n",
       "10    9052.836410\n",
       "11    9299.467190\n",
       "12    9883.052460\n",
       "13    9424.449391\n",
       "14    9568.536426\n",
       "15    9866.239925\n",
       "16    9457.133118\n",
       "17    9906.378997\n",
       "18    9233.671418\n",
       "19    8754.249162\n",
       "20    8881.099514\n",
       "Name: Purchase, dtype: float64"
      ]
     },
     "execution_count": 42,
     "metadata": {},
     "output_type": "execute_result"
    }
   ],
   "source": [
    "df.groupby('Occupation')['Purchase'].mean()"
   ]
  },
  {
   "cell_type": "markdown",
   "metadata": {},
   "source": [
    "### Are the differences statistically significant?\n",
    "That looks like some very small differences, too small to be statistically significant. But to be sure lets apply a t test to these differences. I first obtain the standart error for the group difference and then test to flag any group differences that are more than two standard deviations from the mean for the entire data set. "
   ]
  },
  {
   "cell_type": "code",
   "execution_count": 45,
   "metadata": {},
   "outputs": [],
   "source": [
    "#obtain standard deviations. \n",
    "mean = df['Purchase'].mean()\n",
    "standard_deviation = df['Purchase'].std()"
   ]
  },
  {
   "cell_type": "code",
   "execution_count": 46,
   "metadata": {},
   "outputs": [],
   "source": [
    "#check if any occupational groups are more than two standard \n",
    "#deviations from the mean for purchases.\n",
    "sig_occ_groups = []\n",
    "for occ_group in df.groupby('Occupation')['Purchase'].mean():\n",
    "#     print(abs(mean - 2*standard_deviation) < abs(mean - occ_group))\n",
    "    if abs(mean - 2*standard_deviation) < abs(mean - occ_group):\n",
    "        sig_occ_groups.append(occ_group)"
   ]
  },
  {
   "cell_type": "code",
   "execution_count": 47,
   "metadata": {},
   "outputs": [
    {
     "name": "stdout",
     "output_type": "stream",
     "text": [
      "[]\n"
     ]
    }
   ],
   "source": [
    "#print results\n",
    "print(sig_occ_groups)"
   ]
  },
  {
   "cell_type": "markdown",
   "metadata": {},
   "source": [
    "So the first business hypothesis, that purchases differ significantly by occupation, is shown to be false.  \n",
    "\n",
    "### Automating the procedure\n",
    "\n",
    "But this exercise points to a procedure that could be usefully automated. We seek to find any groups that differ in a statistically significant way from the mean of the data set in purchases. Why not make the above procedure a functtion that could be applied to all of the groups in the data set? That is what I am going to do. The function will take a category of consumers, group the data set by them, and then test to see if the groups differ from the data set mean in a statistically significant way.  \n",
    "\n",
    "I will assume the data set mean and standard deviations to be globally available to the data set in this analysis."
   ]
  },
  {
   "cell_type": "code",
   "execution_count": 55,
   "metadata": {},
   "outputs": [],
   "source": [
    "#automating testing for statistically significant differences\n",
    "def group_diff(df, group, mean, std_dev):\n",
    "    '''Automate discovery of group differences.\n",
    "    \n",
    "    Takes the name of a group, e.g., \"gender\", and checks to see if \n",
    "    its values, in this case \"male\" and \"female\", are associated with \n",
    "    statistically significant differences in values on the dependent\n",
    "    variable, in this case, \"Purchase\".\n",
    "    \n",
    "    Parameters:  \n",
    "    arg1 (DataFrame): the DataFrame  \n",
    "    \n",
    "    arg2 (str or list of strs): The grouping variable(s)  \n",
    "    \n",
    "    arg3 (float): The mean of the dependent variable\n",
    "    \n",
    "    arg4 (float): The standard deviation of the dependent variable\n",
    "    \n",
    "    Returns:\n",
    "    list: values of the grouping variable which are associated with\n",
    "    a statistically significant difference.'''\n",
    "    sig_groups = []\n",
    "    for index, group_mean in enumerate(df.groupby(group)['Purchase'].mean()):\n",
    "        if abs(mean - 2*std_dev) < abs(mean - group_mean):\n",
    "            sig_groups.append(index)\n",
    "    return sig_groups"
   ]
  },
  {
   "cell_type": "code",
   "execution_count": 56,
   "metadata": {},
   "outputs": [
    {
     "name": "stdout",
     "output_type": "stream",
     "text": [
      "[]\n"
     ]
    }
   ],
   "source": [
    "occupation_groups = group_diff(df=df, group='Gender', \n",
    "                               mean=df['Purchase'].mean(), \n",
    "                               std_dev=df['Purchase'].std())\n",
    "print(occupation_groups)"
   ]
  },
  {
   "cell_type": "code",
   "execution_count": 57,
   "metadata": {},
   "outputs": [
    {
     "name": "stdout",
     "output_type": "stream",
     "text": [
      "[]\n"
     ]
    }
   ],
   "source": [
    "gender_groups = group_diff(df=df, group='Gender', \n",
    "                           mean=df['Purchase'].mean(), \n",
    "                           std_dev=df['Purchase'].std())\n",
    "print(gender_groups)"
   ]
  },
  {
   "cell_type": "code",
   "execution_count": 58,
   "metadata": {},
   "outputs": [
    {
     "name": "stdout",
     "output_type": "stream",
     "text": [
      "[]\n"
     ]
    }
   ],
   "source": [
    "city_groups = group_diff(df=df, group='City_Category', \n",
    "                         mean=df['Purchase'].mean(), \n",
    "                         std_dev=df['Purchase'].std())\n",
    "print(city_groups)"
   ]
  },
  {
   "cell_type": "code",
   "execution_count": 59,
   "metadata": {},
   "outputs": [
    {
     "name": "stdout",
     "output_type": "stream",
     "text": [
      "[]\n"
     ]
    }
   ],
   "source": [
    "marital_groups = group_diff(df=df, group='Marital_Status', \n",
    "                         mean=df['Purchase'].mean(), \n",
    "                         std_dev=df['Purchase'].std())\n",
    "print(marital_groups)"
   ]
  },
  {
   "cell_type": "code",
   "execution_count": 60,
   "metadata": {},
   "outputs": [
    {
     "name": "stdout",
     "output_type": "stream",
     "text": [
      "[]\n"
     ]
    }
   ],
   "source": [
    "#We can give groupby lists allowing up to test subgroups\n",
    "gender_maritalStatus_groups = group_diff(df=df, group=['Gender', 'Marital_Status'], \n",
    "                                         mean=df['Purchase'].mean(), \n",
    "                                         std_dev=df['Purchase'].std())\n",
    "\n",
    "print(gender_maritalStatus_groups)"
   ]
  },
  {
   "cell_type": "code",
   "execution_count": 61,
   "metadata": {},
   "outputs": [
    {
     "name": "stdout",
     "output_type": "stream",
     "text": [
      "[]\n"
     ]
    }
   ],
   "source": [
    "Age_groups = group_diff(df=df, group='Age', \n",
    "                        mean=df['Purchase'].mean(), \n",
    "                        std_dev=df['Purchase'].std())\n",
    "print(Age_groups)"
   ]
  },
  {
   "cell_type": "markdown",
   "metadata": {},
   "source": [
    "So this gives a fuller answer to our first business question, are there any significant differences between groups in their purchases? The answer is no, at least for this data set. In all the demographic groups we have the differences in mean purchases by group are not statistically significant. "
   ]
  },
  {
   "cell_type": "markdown",
   "metadata": {},
   "source": [
    "## What are they buying?\n",
    "### 2) Are there differeince between Product Categories\n",
    "But if there are no statistically significant differences between groups in the average amount of purchases they make, does that hold true for every product category? Here I will only ask the question for one demographic distinction: gender."
   ]
  },
  {
   "cell_type": "code",
   "execution_count": 62,
   "metadata": {},
   "outputs": [],
   "source": [
    "male_means = df[df['Gender']=='M'].groupby(['Product_Category_1', \n",
    "                                            'Gender'])['Purchase'].count()\\\n",
    "                                            /len(df[df['Gender']=='M'])\n",
    "    \n",
    "female_means = df[df['Gender']=='F'].groupby(['Product_Category_1', \n",
    "                                              'Gender'])['Purchase'].count()\\\n",
    "                                              /len(df[df['Gender']=='F'])\n",
    "\n",
    "male_stderr = df[df['Gender']=='M'].groupby(['Product_Category_1', \n",
    "                                             'Gender'])['Purchase'].std()\\\n",
    "                                             /len(df[df['Gender']=='M'])\n",
    "    \n",
    "female_stderr = df[df['Gender']=='F'].groupby(['Product_Category_1', \n",
    "                                               'Gender'])['Purchase'].std()\\\n",
    "                                               /len(df[df['Gender']=='F'])"
   ]
  },
  {
   "cell_type": "code",
   "execution_count": 63,
   "metadata": {},
   "outputs": [
    {
     "data": {
      "text/plain": [
       "<Figure size 432x288 with 0 Axes>"
      ]
     },
     "metadata": {},
     "output_type": "display_data"
    },
    {
     "data": {
      "image/png": "[encoded data removed]",
      "text/plain": [
       "<Figure size 1008x576 with 1 Axes>"
      ]
     },
     "metadata": {},
     "output_type": "display_data"
    }
   ],
   "source": [
    "from matplotlib.pyplot import figure\n",
    "from matplotlib.ticker import MaxNLocator\n",
    "\n",
    "plt.clf()\n",
    "\n",
    "fig, ax = plt.subplots()\n",
    "\n",
    "ind = df['Product_Category_1'].unique()\n",
    "ind = np.array(sorted(ind))\n",
    "\n",
    "fig.set_size_inches(14, 8)\n",
    "\n",
    "width = 0.40  \n",
    "\n",
    "p1 = plt.bar(ind, male_means, width, yerr=male_stderr, label='Male')\n",
    "p2 = plt.bar(ind + width, female_means, width, yerr=female_stderr, label='Female')\n",
    "\n",
    "ax.set_xlabel('Product Catogories')\n",
    "ax.set_ylabel('Average Number of Purchases by Gender')\n",
    "plt.title('Purchases by Product Category and Gender')\n",
    "ax.set_xticks(ind + width/2)\n",
    "ax.set_xticklabels(('1', '2', '3', '4', '5', '6', '7', '8', '9', '10', '11', '12', '13', '14', '15', '16', '17', '18'))\n",
    "\n",
    "plt.legend();"
   ]
  },
  {
   "cell_type": "markdown",
   "metadata": {},
   "source": [
    "Now we can see the differences between the purchases of men and women by product category. We can see by the overlap of the error bars that the differences are not statistically significant in all but three categories, the three with the greatest differences in the means for men and women. Lets adjust our chart to emphasize those three categories of product purchases."
   ]
  },
  {
   "cell_type": "code",
   "execution_count": 64,
   "metadata": {},
   "outputs": [],
   "source": [
    "diff = male_means.values - female_means.values"
   ]
  },
  {
   "cell_type": "code",
   "execution_count": 65,
   "metadata": {},
   "outputs": [
    {
     "name": "stdout",
     "output_type": "stream",
     "text": [
      "{1: 0.09651862748908485, 2: 0.002063456634068879, 3: -0.009959859063205803, 4: -0.007298044412406009, 5: -0.046729189605491606, 6: 0.004850963550286691, 7: -0.0002607362347784737, 8: -0.05389129212015187, 9: 0.00029440552627554113, 10: 0.0009974371746762044, 11: 0.01236925977507932, 12: -0.005457907923230989, 13: -0.0009051736895549639, 14: -0.002448948541964582, 15: 0.005039683148197288, 16: 0.00021682876831089284, 17: 0.0007867789956068137, 18: 0.0038137105291977773}\n"
     ]
    }
   ],
   "source": [
    "orig_dict = {}\n",
    "for i,j in zip([x for x in range(1,19)],diff):\n",
    "    orig_dict[i] = j\n",
    "print(orig_dict)"
   ]
  },
  {
   "cell_type": "code",
   "execution_count": 66,
   "metadata": {},
   "outputs": [
    {
     "name": "stdout",
     "output_type": "stream",
     "text": [
      "OrderedDict([(0.09651862748908485, 1), (0.002063456634068879, 2), (-0.009959859063205803, 3), (-0.007298044412406009, 4), (-0.046729189605491606, 5), (0.004850963550286691, 6), (-0.0002607362347784737, 7), (-0.05389129212015187, 8), (0.00029440552627554113, 9), (0.0009974371746762044, 10), (0.01236925977507932, 11), (-0.005457907923230989, 12), (-0.0009051736895549639, 13), (-0.002448948541964582, 14), (0.005039683148197288, 15), (0.00021682876831089284, 16), (0.0007867789956068137, 17), (0.0038137105291977773, 18)])\n"
     ]
    }
   ],
   "source": [
    "ord_dict = OrderedDict()\n",
    "for i,j in zip(diff, [x for x in range(1,19)]):\n",
    "    ord_dict[i] = j\n",
    "print(ord_dict)"
   ]
  },
  {
   "cell_type": "markdown",
   "metadata": {},
   "source": [
    "Now I have the values in an ordered dict with their indexes, the category numbers, as thier values. Next, I want to create a new dictionary with those same values as keys, but this time with thier absolute values. "
   ]
  },
  {
   "cell_type": "code",
   "execution_count": 67,
   "metadata": {},
   "outputs": [
    {
     "name": "stdout",
     "output_type": "stream",
     "text": [
      "{0.09651862748908485: 1, 0.002063456634068879: 2, 0.009959859063205803: 3, 0.007298044412406009: 4, 0.046729189605491606: 5, 0.004850963550286691: 6, 0.0002607362347784737: 7, 0.05389129212015187: 8, 0.00029440552627554113: 9, 0.0009974371746762044: 10, 0.01236925977507932: 11, 0.005457907923230989: 12, 0.0009051736895549639: 13, 0.002448948541964582: 14, 0.005039683148197288: 15, 0.00021682876831089284: 16, 0.0007867789956068137: 17, 0.0038137105291977773: 18}\n"
     ]
    }
   ],
   "source": [
    "abs_val_dict = dict()\n",
    "for key, value in ord_dict.items():\n",
    "    abs_val_dict[abs(key)] = value\n",
    "print(abs_val_dict)"
   ]
  },
  {
   "cell_type": "markdown",
   "metadata": {},
   "source": [
    "Now I use the absolute values to sort the dictionary values by the absolute value of their keys and I will save this to another data structure."
   ]
  },
  {
   "cell_type": "code",
   "execution_count": 68,
   "metadata": {},
   "outputs": [
    {
     "name": "stdout",
     "output_type": "stream",
     "text": [
      "[1, 8, 5, 11, 3, 4, 12, 15, 6, 18, 14, 2, 10, 13, 17, 9, 7, 16]\n"
     ]
    }
   ],
   "source": [
    "category_list = []\n",
    "for i in sorted(abs_val_dict.keys(),reverse=True):\n",
    "    category_list.append(abs_val_dict[i])\n",
    "print(category_list)"
   ]
  },
  {
   "cell_type": "markdown",
   "metadata": {},
   "source": [
    "Then I use this list of category names to get the original values."
   ]
  },
  {
   "cell_type": "code",
   "execution_count": 69,
   "metadata": {},
   "outputs": [],
   "source": [
    "values = []\n",
    "for i in category_list:\n",
    "    values.append(orig_dict[i])\n",
    "\n",
    "values_arr = np.array(values)\n",
    "category_arr = np.array(category_list)"
   ]
  },
  {
   "cell_type": "code",
   "execution_count": 70,
   "metadata": {},
   "outputs": [],
   "source": [
    "category_arr_str = [str(i) for i in category_arr]"
   ]
  },
  {
   "cell_type": "code",
   "execution_count": 71,
   "metadata": {},
   "outputs": [
    {
     "data": {
      "image/png": "[encoded data removed]",
      "text/plain": [
       "<Figure size 1008x576 with 1 Axes>"
      ]
     },
     "metadata": {},
     "output_type": "display_data"
    }
   ],
   "source": [
    "plt.clf()\n",
    "plt.cla()\n",
    "\n",
    "fig = plt.gcf()\n",
    "\n",
    "fig.set_size_inches(14, 8)\n",
    "\n",
    "width = 0.70\n",
    "\n",
    "plt.barh(category_arr_str[::-1], values_arr[::-1], width)\n",
    "plt.xlabel('Difference in Proportion')\n",
    "plt.xticks=category_arr_str\n",
    "\n",
    "\n",
    "plt.ylabel('Product Category')\n",
    "\n",
    "\n",
    "plt.annotate(xy = [-0.04, 2], s='Women', fontsize=30)\n",
    "plt.annotate(xy = [0.04, 2], s='Men', fontsize=30)\n",
    "plt.title('Biggest Differences in Male and Female Spending by Category');"
   ]
  },
  {
   "cell_type": "markdown",
   "metadata": {},
   "source": [
    "So from this graph it is easy to see that product category 1 is favored by men by a nearly 10% margin, while categories 8 and 5 are favored by women by around 5%. This is something to be taken into account in business decisions. "
   ]
  },
  {
   "cell_type": "markdown",
   "metadata": {},
   "source": [
    "## Data prep continued: Prep for machine learning"
   ]
  },
  {
   "cell_type": "markdown",
   "metadata": {},
   "source": [
    "Create the target variable."
   ]
  },
  {
   "cell_type": "code",
   "execution_count": 72,
   "metadata": {},
   "outputs": [],
   "source": [
    "y = df['Purchase']"
   ]
  },
  {
   "cell_type": "markdown",
   "metadata": {},
   "source": [
    "### Drop unused variables\n",
    "Now that we have put purchase in the 'y' or target data we have to get rid of it. I experimented with leaving out other variables and so wrote a function that defaults to removing 'purchase', 'User_ID', and 'Product_ID'. I left these out because they are not really general enough to provide an real insights to policy. Predicting how much a person spend from the product they bought is largely an exercise in predicting the price of the product. The same problem presents itself with the User_ID. We can predict the individual's behavior but can't generalise from that without knowing some characteristics that person shares with other. "
   ]
  },
  {
   "cell_type": "code",
   "execution_count": 73,
   "metadata": {},
   "outputs": [],
   "source": [
    "#make a function to drop unused categories\n",
    "def drop_col(df, use_product_factor=False, category=False):\n",
    "    '''drop categories that are unused, making User_ID \n",
    "       and Product_ID optional and making Product_Category_ID optional'''\n",
    "    \n",
    "    if use_product_factor:   \n",
    "        my_list = ['Purchase', \n",
    "                   'User_ID', \n",
    "                   'Product_ID']\n",
    "    else:\n",
    "        my_list = ['Purchase']\n",
    "    \n",
    "    if category:\n",
    "        my_list.extend(['Product_Category_1', \n",
    "                        'Product_Category_2', \n",
    "                        'Product_Category_3'])\n",
    "    \n",
    "    for col in my_list:\n",
    "        try:\n",
    "            df.drop(col, inplace=True, axis=1)\n",
    "        except:\n",
    "            'column has already been deleted'"
   ]
  },
  {
   "cell_type": "code",
   "execution_count": 74,
   "metadata": {},
   "outputs": [],
   "source": [
    "drop_col(df)"
   ]
  },
  {
   "cell_type": "markdown",
   "metadata": {},
   "source": [
    "### Prepare list of qualitative variables\n",
    "The next thing we have to do is get the qualitative variables into a data frame that we can work with. Here I have created a function that defaults to four qualitative variables and includes the option to add product ID and the Product Categories. I have found that the default is the most informative."
   ]
  },
  {
   "cell_type": "code",
   "execution_count": 75,
   "metadata": {},
   "outputs": [],
   "source": [
    "def select_qual_var(df, Product_ID=False, Product_Category=True):\n",
    "    '''creates list of qualitative variables. Includes product category and\n",
    "    excludes Product_ID by default'''\n",
    "    \n",
    "    my_list = ['Occupation', 'Marital_Status', 'Gender', 'City_Category']\n",
    "    \n",
    "    if Product_ID==True:\n",
    "        my_list.append('Product_ID')\n",
    "    if Product_Category==True:\n",
    "        my_list.extend(['Product_Category_1', 'Product_Category_2', 'Product_Category_3'])\n",
    "    df_qual = df.loc[:, my_list]\n",
    "    \n",
    "    return df_qual"
   ]
  },
  {
   "cell_type": "code",
   "execution_count": 76,
   "metadata": {},
   "outputs": [],
   "source": [
    "df_qual = select_qual_var(df)"
   ]
  },
  {
   "cell_type": "markdown",
   "metadata": {},
   "source": [
    "### Get dummies\n",
    "Now I have to get the dummy variables from the qualitative variables and drop the original qualitative variables. I do this in a for loop. "
   ]
  },
  {
   "cell_type": "code",
   "execution_count": 77,
   "metadata": {},
   "outputs": [],
   "source": [
    "#make dummy variables of the qualitative variables\n",
    "#and drop the original variable\n",
    "for var in df_qual.columns:\n",
    "    df_qual = pd.concat(\n",
    "                [df_qual.drop(var, axis=1), \n",
    "                 pd.get_dummies(df_qual[var], \n",
    "                   drop_first=True, \n",
    "                   prefix=var, \n",
    "                   prefix_sep='_')], \n",
    "                 axis=1)"
   ]
  },
  {
   "cell_type": "code",
   "execution_count": 78,
   "metadata": {},
   "outputs": [
    {
     "data": {
      "text/plain": [
       "(537577, 75)"
      ]
     },
     "execution_count": 78,
     "metadata": {},
     "output_type": "execute_result"
    }
   ],
   "source": [
    "df_qual.shape"
   ]
  },
  {
   "cell_type": "markdown",
   "metadata": {},
   "source": [
    "### Get quantitative variables"
   ]
  },
  {
   "cell_type": "code",
   "execution_count": 79,
   "metadata": {},
   "outputs": [],
   "source": [
    "df_quant = df.select_dtypes(['float', 'int'])"
   ]
  },
  {
   "cell_type": "code",
   "execution_count": 80,
   "metadata": {},
   "outputs": [
    {
     "data": {
      "text/plain": [
       "Index(['User_ID', 'Age', 'Occupation', 'Stay_In_Current_City_Years',\n",
       "       'Marital_Status', 'Product_Category_1', 'Product_Category_2',\n",
       "       'Product_Category_3'],\n",
       "      dtype='object')"
      ]
     },
     "execution_count": 80,
     "metadata": {},
     "output_type": "execute_result"
    }
   ],
   "source": [
    "df_quant.columns"
   ]
  },
  {
   "cell_type": "markdown",
   "metadata": {},
   "source": [
    "### Join the two data frames"
   ]
  },
  {
   "cell_type": "code",
   "execution_count": 81,
   "metadata": {},
   "outputs": [],
   "source": [
    "df = df_quant.join(df_qual)"
   ]
  },
  {
   "cell_type": "markdown",
   "metadata": {},
   "source": [
    "### Train test split\n",
    "I create a function to do this because I wanted to use a sample of the data frame for experimentation. "
   ]
  },
  {
   "cell_type": "code",
   "execution_count": 82,
   "metadata": {},
   "outputs": [],
   "source": [
    "def get_train_test_split(df, y, sample=False):\n",
    "    '''performs train_test_split with option to \n",
    "    create a smaller sample data set of 5000.'''\n",
    "    \n",
    "    if sample:\n",
    "        df = df.sample(n=5000, random_state=42)\n",
    "        y = y.sample(n=5000, random_state=42)\n",
    "    \n",
    "    X = df\n",
    "    y = y\n",
    "    X_train, X_test, y_train, y_test = train_test_split(\n",
    "        X, y, test_size=0.3, random_state=42)\n",
    "    \n",
    "    return X_train, X_test, y_train, y_test"
   ]
  },
  {
   "cell_type": "code",
   "execution_count": 83,
   "metadata": {},
   "outputs": [],
   "source": [
    "X_train, X_test, y_train, y_test = get_train_test_split(df, y)"
   ]
  },
  {
   "cell_type": "markdown",
   "metadata": {},
   "source": [
    "### Scale the variables"
   ]
  },
  {
   "cell_type": "code",
   "execution_count": 84,
   "metadata": {},
   "outputs": [],
   "source": [
    "# Feature Scaling\n",
    "from sklearn.preprocessing import StandardScaler\n",
    "\n",
    "sc = StandardScaler()  \n",
    "X_train = sc.fit_transform(X_train)  \n",
    "X_test = sc.transform(X_test)  "
   ]
  },
  {
   "cell_type": "markdown",
   "metadata": {},
   "source": [
    "## Modeling\n",
    "I finally present the final model to answer the question how well can we predict purchases. I have left the trial and error for the notebook \"Black Friday\", included in this repository. There I went through Linear Regression and it regularized variants, lasso and ridge regression, and finally onto Random Forest Regression, the results of which, I present here.  \n",
    "\n",
    "Using grid search, I manipulated the maximum depth, features, and leaf nodes, as well as the minimum samples to form a leaf and the number of estimators. I present the results of the best model here. \n",
    "\n",
    "There was little loss in performance of the model from the training to the test data, with the $R^2$ dropping from 65.20 to 65.07. That means we can explain 65% of the variance in purchases by the model. "
   ]
  },
  {
   "cell_type": "code",
   "execution_count": 53,
   "metadata": {},
   "outputs": [],
   "source": [
    "params={'max_depth': [21], 'max_features': [69], 'max_leaf_nodes': [695],\n",
    "        'min_samples_leaf': [1], 'n_estimators': [500]}\n",
    "cv = GridSearchCV(estimator=RandomForestRegressor(random_state=42), \n",
    "                  param_grid=params, verbose=1, cv=3, n_jobs=-1)\n"
   ]
  },
  {
   "cell_type": "code",
   "execution_count": 54,
   "metadata": {},
   "outputs": [
    {
     "name": "stdout",
     "output_type": "stream",
     "text": [
      "Fitting 3 folds for each of 1 candidates, totalling 3 fits\n"
     ]
    },
    {
     "name": "stderr",
     "output_type": "stream",
     "text": [
      "[Parallel(n_jobs=-1)]: Done   3 out of   3 | elapsed: 56.2min finished\n"
     ]
    },
    {
     "name": "stdout",
     "output_type": "stream",
     "text": [
      "90.16744508345921\n"
     ]
    }
   ],
   "source": [
    "t0 = time.time()\n",
    "\n",
    "results = cv.fit(X_train,y_train)\n",
    "\n",
    "t1 = time.time()\n",
    "\n",
    "total = t1 - t0\n",
    "print(total/60)"
   ]
  },
  {
   "cell_type": "code",
   "execution_count": 55,
   "metadata": {},
   "outputs": [
    {
     "name": "stdout",
     "output_type": "stream",
     "text": [
      "RandomForestRegressor(bootstrap=True, criterion='mse', max_depth=21,\n",
      "           max_features=69, max_leaf_nodes=695, min_impurity_decrease=0.0,\n",
      "           min_impurity_split=None, min_samples_leaf=1,\n",
      "           min_samples_split=2, min_weight_fraction_leaf=0.0,\n",
      "           n_estimators=500, n_jobs=1, oob_score=False, random_state=42,\n",
      "           verbose=0, warm_start=False)\n",
      "0.6573656257603486\n",
      "{'max_depth': 21, 'max_features': 69, 'max_leaf_nodes': 695, 'min_samples_leaf': 1, 'n_estimators': 500}\n",
      "0.6564416792437611\n",
      "2919.19479957651\n"
     ]
    }
   ],
   "source": [
    "print(results.best_estimator_)\n",
    "print(results.best_score_)\n",
    "print(results.best_params_)\n",
    "y_test_pred = cv.predict(X_test)\n",
    "\n",
    "print(r2_score(y_test, y_test_pred))\n",
    "print(np.sqrt(mean_squared_error(y_test, y_test_pred)))"
   ]
  },
  {
   "cell_type": "markdown",
   "metadata": {},
   "source": [
    "## Evaluation\n",
    "We were able to get the $R^2$ on the testing set up to 0.656 and the mean squared error down to 2919. That is pretty good but the leader board on the contest has mean squared error 2405. 2919 doesn't occur untill the 3rd page of results. I don't know why they are doing so much better than me. One possibility is that they are using Product_ID. I excluded this variable on the grounds that it was just predicting the price of the product and would have limited use for business decisions but maybe for the contest it might be worth it.  \n",
    "\n",
    "In any case we have shown that the data set shows no statistically significant differences between groups in their overall purchases which is surprising. On the other hand, we were able to find three product groups that have different amounts bought between men and women, a fact which might be useful to marketers."
   ]
  },
  {
   "cell_type": "code",
   "execution_count": null,
   "metadata": {},
   "outputs": [],
   "source": []
  }
 ],
 "metadata": {
  "kernelspec": {
   "display_name": "Python 3",
   "language": "python",
   "name": "python3"
  },
  "language_info": {
   "codemirror_mode": {
    "name": "ipython",
    "version": 3
   },
   "file_extension": ".py",
   "mimetype": "text/x-python",
   "name": "python",
   "nbconvert_exporter": "python",
   "pygments_lexer": "ipython3",
   "version": "3.6.6"
  }
 },
 "nbformat": 4,
 "nbformat_minor": 2
}
